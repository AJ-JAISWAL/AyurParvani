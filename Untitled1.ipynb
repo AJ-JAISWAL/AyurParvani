{
 "cells": [
  {
   "cell_type": "code",
   "execution_count": 4,
   "id": "21de1100-6c8a-49b1-80ff-703859fddb22",
   "metadata": {},
   "outputs": [],
   "source": [
    "from langchain.prompts import PromptTemplate\n",
    "from langchain_community.embeddings import HuggingFaceEmbeddings\n",
    "from langchain_community.vectorstores import FAISS\n",
    "from langchain_community.llms import CTransformers\n",
    "from langchain.chains import RetrievalQA"
   ]
  },
  {
   "cell_type": "code",
   "execution_count": 5,
   "id": "fd2b7190-9248-4add-aa46-4ac3f308bb56",
   "metadata": {},
   "outputs": [],
   "source": [
    "DB_FAISS_PATH = 'vectorstore/db_faiss'\n",
    "custom_prompt_template = \"\"\"Use the following pieces of information to answer the user's question.\n",
    "If you don't know the answer, just say that you don't know, don't try to make up an answer.\n",
    "\n",
    "Context: {context}\n",
    "Question: {question}\n",
    "\n",
    "Only return the helpful answer below and nothing else.\n",
    "Helpful answer:\n",
    "\"\"\""
   ]
  },
  {
   "cell_type": "code",
   "execution_count": 6,
   "id": "aea6aa9e-9718-41d8-b3f1-1d2f452945fd",
   "metadata": {},
   "outputs": [],
   "source": [
    "def set_custom_prompt():\n",
    "    \"\"\"\n",
    "    Prompt template for QA retrieval for each vectorstore\n",
    "    \"\"\"\n",
    "    prompt = PromptTemplate(template=custom_prompt_template,\n",
    "                            input_variables=['context', 'question'])\n",
    "    return prompt\n"
   ]
  },
  {
   "cell_type": "code",
   "execution_count": 7,
   "id": "f7f669a3-f3f8-4738-a59c-0e19d9c15e9b",
   "metadata": {},
   "outputs": [],
   "source": [
    "def load_llm():\n",
    "    # Load the locally downloaded model here\n",
    "    llm = CTransformers(\n",
    "        model = \"TheBloke/Llama-2-7B-Chat-GGML\",\n",
    "        model_type=\"llama\",\n",
    "        max_new_tokens = 512,\n",
    "        temperature = 0.5\n",
    "    )\n",
    "    return llm"
   ]
  },
  {
   "cell_type": "code",
   "execution_count": 29,
   "id": "fe616179-e0a5-4c66-816e-ea06bba294ed",
   "metadata": {},
   "outputs": [],
   "source": [
    "def retrieval_qa_chain(llm, prompt, db):\n",
    "    qa_chain = RetrievalQA.from_chain_type(llm=llm,\n",
    "                                       chain_type='stuff',\n",
    "                                       retriever=db.as_retriever(search_kwargs={'k': 2}),\n",
    "                                       return_source_documents=True,\n",
    "                                       chain_type_kwargs={'prompt': prompt}\n",
    "                                       )\n",
    "    return qa_chain"
   ]
  },
  {
   "cell_type": "code",
   "execution_count": 13,
   "id": "3d4d92c6-2561-4012-adcb-44fafa8749fd",
   "metadata": {},
   "outputs": [],
   "source": [
    "def qa_bot():\n",
    "    embeddings = HuggingFaceEmbeddings(model_name=\"sentence-transformers/all-MiniLM-L6-v2\",\n",
    "                                       model_kwargs={'device': 'cpu'})\n",
    "    db = FAISS.load_local(DB_FAISS_PATH, embeddings,allow_dangerous_deserialization=True)\n",
    "    llm = load_llm()\n",
    "    qa_prompt = set_custom_prompt()\n",
    "    qa = retrieval_qa_chain(llm, qa_prompt, db)\n",
    "\n",
    "    return qa"
   ]
  },
  {
   "cell_type": "code",
   "execution_count": 9,
   "id": "3ea58b38-9fa8-416d-bedf-1eca1b0f39b0",
   "metadata": {},
   "outputs": [],
   "source": [
    "def final_result(query):\n",
    "    qa_result = qa_bot()\n",
    "    response = qa_result({'query': query})\n",
    "    return response"
   ]
  },
  {
   "cell_type": "code",
   "execution_count": 36,
   "id": "8d1eab74-af45-41d5-94d8-922193c453f9",
   "metadata": {},
   "outputs": [
    {
     "name": "stderr",
     "output_type": "stream",
     "text": [
      "Fetching 1 files: 100%|██████████| 1/1 [00:00<?, ?it/s]\n",
      "Fetching 1 files: 100%|██████████| 1/1 [00:00<?, ?it/s]\n"
     ]
    },
    {
     "name": "stdout",
     "output_type": "stream",
     "text": [
      "{'query': 'What is pravahika?', 'result': \"Pratishedha's Asi mentions that Pravahika is a disease or condition described in the context of Pratis'yaya-Pratisedh, meaning Pradhansa, Sannaveshika and other related conditions. It is not possible to determine from the given text what the exact nature of this disease or condition is, as it is only referred to in a general way without any specific details. Therefore, I cannot provide a definitive answer to your question regarding Pravahika.\", 'source_documents': [Document(id=None, metadata={'source': '/content/drive/MyDrive/sushrut_samhita.pdf', 'page': 472}, page_content='Pratis\\'yaya-Pratishedha ...iii124\\nPrati-tuni(adisease) ...ii16\\nPiatyadhmana ii16,312\\nPratyashthila ii17,312\\nPravahika\\nsymptoms\\ntreatment\\ndiet\\nPrav.-ita ...\\nPregnancy\\nitsmanagement\"1\\nspecialrecipefor>-\\npregnantwomanj\\nDefective;—\\nitssymptomsand\\nmedicaltrcatmcn\\nPregnantwoman :—\\nnursingandmanage-\\nmentof...\\nPremonitorysymptom\\ndefinitionofii5S7,605,iii22S\\n...iii229.31\\n.„iii229-30\\nii491\\nii134.43;ii233-38\\nii236-8\\nn-\\'11233-4\\nii216-38\\ni317'), Document(id=None, metadata={'source': '/content/drive/MyDrive/sushrut_samhita.pdf', 'page': 389}, page_content='Arochaka.')]}\n"
     ]
    }
   ],
   "source": [
    "query=\"What is pravahika?\"\n",
    "answer=final_result(query)\n",
    "print(answer)"
   ]
  },
  {
   "cell_type": "code",
   "execution_count": 37,
   "id": "fb5e0b15-167d-46fc-9c08-4b3a682f9f2c",
   "metadata": {},
   "outputs": [
    {
     "name": "stdout",
     "output_type": "stream",
     "text": [
      "Pratishedha's Asi mentions that Pravahika is a disease or condition described in the context of Pratis'yaya-Pratisedh, meaning Pradhansa, Sannaveshika and other related conditions. It is not possible to determine from the given text what the exact nature of this disease or condition is, as it is only referred to in a general way without any specific details. Therefore, I cannot provide a definitive answer to your question regarding Pravahika.\n"
     ]
    }
   ],
   "source": [
    "print(answer['result'])\n"
   ]
  },
  {
   "cell_type": "code",
   "execution_count": null,
   "id": "56869a17-0828-468b-9b3c-b543e296f894",
   "metadata": {},
   "outputs": [],
   "source": []
  }
 ],
 "metadata": {
  "kernelspec": {
   "display_name": "Python 3 (ipykernel)",
   "language": "python",
   "name": "python3"
  },
  "language_info": {
   "codemirror_mode": {
    "name": "ipython",
    "version": 3
   },
   "file_extension": ".py",
   "mimetype": "text/x-python",
   "name": "python",
   "nbconvert_exporter": "python",
   "pygments_lexer": "ipython3",
   "version": "3.11.9"
  }
 },
 "nbformat": 4,
 "nbformat_minor": 5
}
